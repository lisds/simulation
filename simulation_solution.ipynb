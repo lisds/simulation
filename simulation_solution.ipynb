{
 "cells": [
  {
   "cell_type": "markdown",
   "id": "fb6e3738",
   "metadata": {},
   "source": [
    "# Simulation exercises\n",
    "\n",
    "This is an exercise on for-loops, simulation and inference."
   ]
  },
  {
   "cell_type": "code",
   "execution_count": 1,
   "id": "bd13b210",
   "metadata": {
    "execution": {
     "iopub.execute_input": "2022-10-24T09:26:45.931481Z",
     "iopub.status.busy": "2022-10-24T09:26:45.931156Z",
     "iopub.status.idle": "2022-10-24T09:26:46.086188Z",
     "shell.execute_reply": "2022-10-24T09:26:46.085513Z"
    }
   },
   "outputs": [],
   "source": [
    "# Don't change this cell; just run it.\n",
    "import numpy as np  # The array library.\n",
    "\n",
    "# A Numpy random number generator.\n",
    "rng = np.random.default_rng()\n",
    "\n",
    "# The OKpy testing system.\n",
    "from client.api.notebook import Notebook\n",
    "ok = Notebook('simulation.ok')"
   ]
  },
  {
   "cell_type": "markdown",
   "id": "f13db5a4",
   "metadata": {},
   "source": [
    "## The crooked Euro\n",
    "\n",
    "With thanks to [Allen Downey](https://tinyurl.com/inference3), and [David\n",
    "MacKay](http://www.inference.org.uk/mackay).\n",
    "\n",
    "Some people were worried that the [Euro coin was asymmetric](https://www.theguardian.com/world/2002/jan/04/euro.eu2).  A quick test, described in that page found that:\n",
    "\n",
    "> When tossed 250 times, the one euro coin came up heads 139 times and tails\n",
    "> 111.\n",
    "\n",
    "For a fair, balanced coin, the chance of a head is 0.5 (50%) on each coin\n",
    "toss.  Therefore we expect *around* 50% of these 250 coin tosses to be heads -\n",
    "therefore, we expect *around* 125 heads.\n",
    "\n",
    "In fact we got 139; that a seems a rather high number.\n",
    "\n",
    "How often would we expect such a number just by chance, *if it is really true\n",
    "that the chances of heads on any on toss is 0.5*?\n",
    "\n",
    "What do we mean by *such a number* above? We are concerned that 139 is rather\n",
    "high.   We are therefore interested to see whether we get 139 again.  But we\n",
    "know that getting *exactly* 139 is going to be unlikely, even if the coin is\n",
    "biased; even *exactly 125* is unlikely if the coin is fair.  And, if the coin\n",
    "is fair, and 139 is surprising, we would be even more surprised by 140, 141 and\n",
    "so on.  So our interest is to see how often a fair coin will give us a number\n",
    "of heads of 139, or even, a greater number.\n",
    "\n",
    "We therefore want to check how often we get *139 or more* heads in 250 coin\n",
    "tosses, if the coin is fair.\n",
    "\n",
    "Call one *trial* - the result of 250 coin tosses.\n",
    "\n",
    "For simulations like these, it is very often useful to first build a cell with\n",
    "one trial, to work out the logic of a single trial, and only then put that\n",
    "logic inside the for loop, to do multiple trials.\n",
    "\n",
    "To help you, here is the logic for one trial:"
   ]
  },
  {
   "cell_type": "code",
   "execution_count": 2,
   "id": "018a426c",
   "metadata": {
    "execution": {
     "iopub.execute_input": "2022-10-24T09:26:46.092392Z",
     "iopub.status.busy": "2022-10-24T09:26:46.091497Z",
     "iopub.status.idle": "2022-10-24T09:26:46.096216Z",
     "shell.execute_reply": "2022-10-24T09:26:46.095698Z"
    }
   },
   "outputs": [],
   "source": [
    "# One trial of the coin-tossing problem.\n",
    "# Toss 150 coins, each with a 50% chance of giving heads (1).\n",
    "tosses = rng.integers(0, 2, size=250)\n",
    "# Count the number of heads.\n",
    "n_heads = np.sum(tosses)"
   ]
  },
  {
   "cell_type": "markdown",
   "id": "5848d7e8",
   "metadata": {},
   "source": [
    "Remember, our job in the *for loop* is first: do the single trial logic above\n",
    "and second;  store the result to analyze later. Here the result of the single\n",
    "trial is `n_heads`."
   ]
  },
  {
   "cell_type": "code",
   "execution_count": 3,
   "id": "c58b11c7",
   "metadata": {
    "execution": {
     "iopub.execute_input": "2022-10-24T09:26:46.099383Z",
     "iopub.status.busy": "2022-10-24T09:26:46.099104Z",
     "iopub.status.idle": "2022-10-24T09:26:46.206661Z",
     "shell.execute_reply": "2022-10-24T09:26:46.205361Z"
    }
   },
   "outputs": [],
   "source": [
    "# Array to store the number of heads on each trial.\n",
    "counts = np.zeros(10000)\n",
    "for i in np.arange(10000):\n",
    "    # Each indented statement gets run on every trial\n",
    "    tosses = rng.integers(0, 2, size=250)\n",
    "    n_heads = np.sum(tosses)\n",
    "    counts[i] = n_heads\n",
    "p_crooked = np.count_nonzero(counts >= 139) / 10000\n",
    "p_crooked"
   ]
  },
  {
   "cell_type": "code",
   "execution_count": 4,
   "id": "c9f96c03",
   "metadata": {
    "execution": {
     "iopub.execute_input": "2022-10-24T09:26:46.210735Z",
     "iopub.status.busy": "2022-10-24T09:26:46.210430Z",
     "iopub.status.idle": "2022-10-24T09:26:46.225308Z",
     "shell.execute_reply": "2022-10-24T09:26:46.225077Z"
    }
   },
   "outputs": [],
   "source": [
    "_ = ok.grade('q_p_crooked')"
   ]
  },
  {
   "cell_type": "markdown",
   "id": "0d64e907",
   "metadata": {},
   "source": [
    "## Penalty shootout technique\n",
    "\n",
    "Jen is the penalty taker for her football team.\n",
    "\n",
    "She's been doing this for a long time.  She thinks she normally has a 80%\n",
    "chance of scoring.\n",
    "\n",
    "In the last 15 penalties she has taken, she has been trying a new technique.\n",
    "She scored on all 15 penalties.\n",
    "\n",
    "How certain can she be that this would not have happened, using the old\n",
    "technique?\n",
    "\n",
    "As usual, we first consider the logic for a single trial.  A single trial is 15\n",
    "of Jen's penalty shots.  The result of the trial is the number of penalty shots\n",
    "that went in.  For each shot, there is a 80% chance of it going in. Careful,\n",
    "this is different from the case of the coin toss, where each coin toss had a\n",
    "50% chance of being heads.\n",
    "\n",
    "Hint: one good option is `rng.integers`.  Read the help with\n",
    "`rng.integers?` in a new cell.  Consider the logic in the [reply to the\n",
    "Supreme Court](https://lisds.github.io/textbook/iteration/reply_supreme).\n",
    "\n",
    "Try filling in the cell below to get the logic for one trial.  Run the cell a\n",
    "few times to see whether you are getting a plausible number of scores."
   ]
  },
  {
   "cell_type": "code",
   "execution_count": 5,
   "id": "e3eaedc4",
   "metadata": {
    "execution": {
     "iopub.execute_input": "2022-10-24T09:26:46.228029Z",
     "iopub.status.busy": "2022-10-24T09:26:46.227927Z",
     "iopub.status.idle": "2022-10-24T09:26:46.230215Z",
     "shell.execute_reply": "2022-10-24T09:26:46.229990Z"
    }
   },
   "outputs": [],
   "source": [
    "#- One trial is 15 penalty shots, each with 80% chance of scoring.\n",
    "shots = rng.integers(0, 10, 15)\n",
    "scores = np.count_nonzero(shots < 8)\n",
    "# Scores should be some number between 0 and 15, with higher values being much\n",
    "# more likely than lower values (because of the 80% chance of scoring).\n",
    "scores"
   ]
  },
  {
   "cell_type": "markdown",
   "id": "827ccf6f",
   "metadata": {},
   "source": [
    "Now you should have the logic for one trial, you can put it into the for loop.  Remember to store the result of each trial, within the for loop."
   ]
  },
  {
   "cell_type": "code",
   "execution_count": 6,
   "id": "d1ddf504",
   "metadata": {
    "execution": {
     "iopub.execute_input": "2022-10-24T09:26:46.231528Z",
     "iopub.status.busy": "2022-10-24T09:26:46.231441Z",
     "iopub.status.idle": "2022-10-24T09:26:46.271597Z",
     "shell.execute_reply": "2022-10-24T09:26:46.271348Z"
    }
   },
   "outputs": [],
   "source": [
    "#- Calculate the probability of Jen scoring 15 out of 15 penalties.\n",
    "counts = np.zeros(10000)\n",
    "for i in np.arange(10000):\n",
    "    # Each indented statement gets run on every trial\n",
    "    shots = rng.integers(0, 10, 15)\n",
    "    scores = np.count_nonzero(shots < 8)\n",
    "    counts[i] = scores\n",
    "p_15_of_15 = np.count_nonzero(counts == 15) / 10000\n",
    "p_15_of_15"
   ]
  },
  {
   "cell_type": "code",
   "execution_count": 7,
   "id": "4a2533a6",
   "metadata": {
    "execution": {
     "iopub.execute_input": "2022-10-24T09:26:46.272940Z",
     "iopub.status.busy": "2022-10-24T09:26:46.272860Z",
     "iopub.status.idle": "2022-10-24T09:26:46.279460Z",
     "shell.execute_reply": "2022-10-24T09:26:46.279251Z"
    }
   },
   "outputs": [],
   "source": [
    "_ = ok.grade('q_1_penalties')"
   ]
  },
  {
   "cell_type": "markdown",
   "id": "ead61728",
   "metadata": {},
   "source": [
    "## Aim big\n",
    "\n",
    "John is playing Monopoly.  His piece, the top hat, is sitting in a really bad\n",
    "spot, just in front of some expensive hotels.  He is about to roll the two\n",
    "6-sided die.  He needs a score of 10 or more to skip over the hotels.  What\n",
    "are John's chances?\n",
    "\n",
    "Solve by simulation.\n",
    "\n",
    "Hint: consider `rng.integers` again.\n",
    "\n",
    "Here is a template for the logic of one trial.  The result you see for `score`\n",
    "should be the result of rolling two six-sided dice, and adding the scores.  As\n",
    "usual, we expect numbers like 7 or 6 to be a lot more common than scores like\n",
    "2 or 12, because there are six combinations of the two dice scores that add up\n",
    "to 7 (1 + 6, 2 + 7 ...) and only one combination that adds up to 12."
   ]
  },
  {
   "cell_type": "code",
   "execution_count": 8,
   "id": "d6e40e7c",
   "metadata": {
    "execution": {
     "iopub.execute_input": "2022-10-24T09:26:46.282039Z",
     "iopub.status.busy": "2022-10-24T09:26:46.281870Z",
     "iopub.status.idle": "2022-10-24T09:26:46.284115Z",
     "shell.execute_reply": "2022-10-24T09:26:46.283850Z"
    }
   },
   "outputs": [],
   "source": [
    "dice = rng.integers(1, 7, size=2)\n",
    "score = np.sum(dice)\n",
    "# The addition of the two dice. This should result in numbers like 7 or 6\n",
    "# more often than numbers like 2 or 12.\n",
    "score"
   ]
  },
  {
   "cell_type": "markdown",
   "id": "fd3d72a7",
   "metadata": {},
   "source": [
    "Now put this single-trial logic in the for loop.  Don't forget to store the\n",
    "result of the trial, within the loop."
   ]
  },
  {
   "cell_type": "code",
   "execution_count": 9,
   "id": "24da97ae",
   "metadata": {
    "execution": {
     "iopub.execute_input": "2022-10-24T09:26:46.285528Z",
     "iopub.status.busy": "2022-10-24T09:26:46.285435Z",
     "iopub.status.idle": "2022-10-24T09:26:46.342591Z",
     "shell.execute_reply": "2022-10-24T09:26:46.342329Z"
    }
   },
   "outputs": [],
   "source": [
    "#- Calculate the probability of getting 10 or more with two dice.\n",
    "counts = np.zeros(10000)\n",
    "for i in np.arange(10000):\n",
    "    dice = rng.integers(1, 7, size=2)\n",
    "    score = np.sum(dice)\n",
    "    counts[i] = score\n",
    "p_10_or_more = np.count_nonzero(counts >= 10) / 10000\n",
    "p_10_or_more"
   ]
  },
  {
   "cell_type": "code",
   "execution_count": 10,
   "id": "585fae5b",
   "metadata": {
    "execution": {
     "iopub.execute_input": "2022-10-24T09:26:46.343867Z",
     "iopub.status.busy": "2022-10-24T09:26:46.343794Z",
     "iopub.status.idle": "2022-10-24T09:26:46.350399Z",
     "shell.execute_reply": "2022-10-24T09:26:46.350197Z"
    }
   },
   "outputs": [],
   "source": [
    "_ = ok.grade('q_2_monopoly')"
   ]
  },
  {
   "cell_type": "markdown",
   "id": "fc2cf920",
   "metadata": {},
   "source": [
    "## Blackjack\n",
    "\n",
    "Given any three random playing cards, what is the chance that the ranks of the\n",
    "three cards add up to 21?\n",
    "\n",
    "10, jack, queen and king all count as 10.  For example, one way of getting 21\n",
    "is a seven, a four and a king.\n"
   ]
  },
  {
   "cell_type": "markdown",
   "id": "eb883472",
   "metadata": {},
   "source": [
    "### Simple version\n",
    "\n",
    "Assume the three cards are each dealt from the top of a full shuffled deck.\n",
    "Therefore, the procedure is:\n",
    "\n",
    "* you shuffle, look at the top card, record the rank, you put it back.\n",
    "* repeat twice more.\n",
    "\n",
    "Assume that the ace counts as 1.  What are the chances of getting\n",
    "a total rank of 21?\n",
    "\n",
    "Hint: look at the array `card_deck` in the code cell below.\n",
    "\n",
    "Investigate `rng.choice` to use this array for the problem.\n",
    "\n",
    "Consider whether you want to draw cards with replacement, or without\n",
    "replacement."
   ]
  },
  {
   "cell_type": "code",
   "execution_count": 11,
   "id": "8fb1d891",
   "metadata": {
    "execution": {
     "iopub.execute_input": "2022-10-24T09:26:46.353143Z",
     "iopub.status.busy": "2022-10-24T09:26:46.353053Z",
     "iopub.status.idle": "2022-10-24T09:26:46.355329Z",
     "shell.execute_reply": "2022-10-24T09:26:46.355107Z"
    }
   },
   "outputs": [],
   "source": [
    "# First - define the ranks of all the cards in one suit.\n",
    "# Ace is 1; Jack, Queen, King are all 10.\n",
    "ranks = np.array([1, 2, 3, 4, 5, 6, 7, 8, 9, 10, 10, 10, 10])\n",
    "# Next - make a deck of cards by replicating ranks four times.\n",
    "# The line below repeats each element four times.\n",
    "card_deck = np.repeat(ranks, 4)\n",
    "card_deck"
   ]
  },
  {
   "cell_type": "markdown",
   "id": "5477d9d2",
   "metadata": {},
   "source": [
    "Here is a cell for you to work on the logic for a single trial:"
   ]
  },
  {
   "cell_type": "code",
   "execution_count": 12,
   "id": "a8b0c600",
   "metadata": {
    "execution": {
     "iopub.execute_input": "2022-10-24T09:26:46.356756Z",
     "iopub.status.busy": "2022-10-24T09:26:46.356664Z",
     "iopub.status.idle": "2022-10-24T09:26:46.358744Z",
     "shell.execute_reply": "2022-10-24T09:26:46.358510Z"
    }
   },
   "outputs": [],
   "source": [
    "#- \"cards\" should be an array with 3 elements, each of which comes from the\n",
    "#- \"card_deck\" array.\n",
    "cards = rng.choice(card_deck, 3, replace=False)\n",
    "#- \"rank_total\" should be the result of adding up the ranks in the cards.\n",
    "rank_total = np.sum(cards)\n",
    "# The result should be some number between 3 and 30 ... (why?).\n",
    "rank_total"
   ]
  },
  {
   "cell_type": "code",
   "execution_count": 13,
   "id": "87821ed3",
   "metadata": {
    "execution": {
     "iopub.execute_input": "2022-10-24T09:26:46.359980Z",
     "iopub.status.busy": "2022-10-24T09:26:46.359891Z",
     "iopub.status.idle": "2022-10-24T09:26:46.443020Z",
     "shell.execute_reply": "2022-10-24T09:26:46.442771Z"
    }
   },
   "outputs": [],
   "source": [
    "# Ranks of all the cards in one suit.\n",
    "ranks = np.array([1, 2, 3, 4, 5, 6, 7, 8, 9, 10, 10, 10, 10])\n",
    "card_deck = np.repeat(ranks, 4)\n",
    "rank_totals = np.zeros(10000)\n",
    "for i in np.arange(10000):\n",
    "    cards = rng.choice(card_deck, 3, replace=False)\n",
    "    rank_totals[i] = np.sum(cards)\n",
    "p_total_21 = np.count_nonzero(rank_totals == 21) / 10000\n",
    "p_total_21"
   ]
  },
  {
   "cell_type": "code",
   "execution_count": 14,
   "id": "3a01753d",
   "metadata": {
    "execution": {
     "iopub.execute_input": "2022-10-24T09:26:46.444251Z",
     "iopub.status.busy": "2022-10-24T09:26:46.444178Z",
     "iopub.status.idle": "2022-10-24T09:26:46.450408Z",
     "shell.execute_reply": "2022-10-24T09:26:46.450217Z"
    }
   },
   "outputs": [],
   "source": [
    "_ = ok.grade('q_3_simple_blackjack')"
   ]
  },
  {
   "cell_type": "markdown",
   "id": "2fdd8c4a",
   "metadata": {},
   "source": [
    "## Less simple version\n",
    "\n",
    "Assume the cards are drawn as they were for the problem above.\n",
    "\n",
    "Now the ace can count as 1 or as 11, whichever gives a total of 21.  To make things a bit simpler, the two options are:\n",
    "\n",
    "* all aces in a hand count as 1, OR\n",
    "* all aces in a hand count as 11.\n",
    "\n",
    "Your job is to choose the option from the list above, that gives you 21, if that is possible.\n",
    "\n",
    "For example, if you have a hand (Ace, Ace, 9), then your two options are ranks\n",
    "(1, 1, 9) (for a total of 21) or (11, 11, 9) (for a total of 31), in which\n",
    "case you would choose the ace = 1 rank.  On the other hand, you might have\n",
    "(Ace, 2, 8) in which case you would chose the ace = 11 rank.  In this\n",
    "simplified case (Ace, Ace, 8) can only give 10 (for ace=1) or 30 (for ace=11).\n",
    "\n",
    "In this situation, what are the chances of a total rank of 21?\n",
    "\n",
    "The hints below are for one way of solving this case.   There are other ways of solving this case; feel free to chose the method you prefer.\n",
    "\n",
    "*Hint 1*: you can change values of 1 to 11 like this:"
   ]
  },
  {
   "cell_type": "code",
   "execution_count": 15,
   "id": "133760f2",
   "metadata": {
    "execution": {
     "iopub.execute_input": "2022-10-24T09:26:46.452832Z",
     "iopub.status.busy": "2022-10-24T09:26:46.452739Z",
     "iopub.status.idle": "2022-10-24T09:26:46.454790Z",
     "shell.execute_reply": "2022-10-24T09:26:46.454524Z"
    }
   },
   "outputs": [],
   "source": [
    "# Make an example array\n",
    "some_cards = np.array([1, 3, 5, 1, 2])\n",
    "some_cards"
   ]
  },
  {
   "cell_type": "code",
   "execution_count": 16,
   "id": "26bf41de",
   "metadata": {
    "execution": {
     "iopub.execute_input": "2022-10-24T09:26:46.456056Z",
     "iopub.status.busy": "2022-10-24T09:26:46.455964Z",
     "iopub.status.idle": "2022-10-24T09:26:46.457912Z",
     "shell.execute_reply": "2022-10-24T09:26:46.457674Z"
    }
   },
   "outputs": [],
   "source": [
    "# Make a Boolean array that has True for positions where some_cards == 1\n",
    "card_eq_1 = some_cards == 1\n",
    "card_eq_1"
   ]
  },
  {
   "cell_type": "code",
   "execution_count": 17,
   "id": "4626997f",
   "metadata": {
    "execution": {
     "iopub.execute_input": "2022-10-24T09:26:46.459178Z",
     "iopub.status.busy": "2022-10-24T09:26:46.459084Z",
     "iopub.status.idle": "2022-10-24T09:26:46.461025Z",
     "shell.execute_reply": "2022-10-24T09:26:46.460780Z"
    }
   },
   "outputs": [],
   "source": [
    "# In the found positions, change the value to 11\n",
    "some_cards[card_eq_1] = 11\n",
    "some_cards"
   ]
  },
  {
   "cell_type": "markdown",
   "id": "6d69c729",
   "metadata": {},
   "source": [
    "*Hint 2*: You might want to use this kind of trick more than once in your\n",
    "solution.\n",
    "\n",
    "*Hint 3*: You might consider having two arrays of results for each hand, one for the case where aces count as 1 and the other for case where aces count as 11, like this:"
   ]
  },
  {
   "cell_type": "code",
   "execution_count": 18,
   "id": "e975e535",
   "metadata": {
    "execution": {
     "iopub.execute_input": "2022-10-24T09:26:46.462388Z",
     "iopub.status.busy": "2022-10-24T09:26:46.462298Z",
     "iopub.status.idle": "2022-10-24T09:26:46.463966Z",
     "shell.execute_reply": "2022-10-24T09:26:46.463739Z"
    }
   },
   "outputs": [],
   "source": [
    "# Initialize result arrays.\n",
    "rank_totals_1 = np.zeros(10000)\n",
    "rank_totals_11 = np.zeros(10000)"
   ]
  },
  {
   "cell_type": "markdown",
   "id": "10cce924",
   "metadata": {},
   "source": [
    "Here is the cell for your solution:"
   ]
  },
  {
   "cell_type": "code",
   "execution_count": 19,
   "id": "53d1e562",
   "metadata": {
    "execution": {
     "iopub.execute_input": "2022-10-24T09:26:46.465246Z",
     "iopub.status.busy": "2022-10-24T09:26:46.465172Z",
     "iopub.status.idle": "2022-10-24T09:26:46.582343Z",
     "shell.execute_reply": "2022-10-24T09:26:46.582070Z"
    }
   },
   "outputs": [],
   "source": [
    "rank_totals_1 = np.zeros(10000)\n",
    "rank_totals_11 = np.zeros(10000)\n",
    "for i in np.arange(10000):\n",
    "    cards = rng.choice(card_deck, 3, replace=False)\n",
    "    rank_totals_1[i] = np.sum(cards)\n",
    "    cards[cards == 1] = 11\n",
    "    rank_totals_11[i] = np.sum(cards)\n",
    "rt_11s = rank_totals_11 == 21\n",
    "rank_totals_1[rt_11s] = 21\n",
    "p_flex_total_21 = np.count_nonzero(rank_totals_1 == 21) / 10000\n",
    "p_flex_total_21"
   ]
  },
  {
   "cell_type": "code",
   "execution_count": 20,
   "id": "fde1dd4b",
   "metadata": {
    "execution": {
     "iopub.execute_input": "2022-10-24T09:26:46.583653Z",
     "iopub.status.busy": "2022-10-24T09:26:46.583578Z",
     "iopub.status.idle": "2022-10-24T09:26:46.589918Z",
     "shell.execute_reply": "2022-10-24T09:26:46.589671Z"
    }
   },
   "outputs": [],
   "source": [
    "_ = ok.grade('q_4_flexi_blackjack')"
   ]
  },
  {
   "cell_type": "markdown",
   "id": "cb8e5229",
   "metadata": {},
   "source": [
    "You may have found that allowing aces to count as 11 didn't greatly improve your chances of getting 21.  Why is that?"
   ]
  },
  {
   "cell_type": "markdown",
   "id": "88e56eee",
   "metadata": {},
   "source": [
    "## Done.\n",
    "\n",
    "Congratulations, you're done with the assignment!  Be sure to:\n",
    "\n",
    "- **run all the tests** (the next cell has a shortcut for that),\n",
    "- **Save and Checkpoint** from the `File` menu,"
   ]
  },
  {
   "cell_type": "code",
   "execution_count": 21,
   "id": "54a95da6",
   "metadata": {
    "execution": {
     "iopub.execute_input": "2022-10-24T09:26:46.592726Z",
     "iopub.status.busy": "2022-10-24T09:26:46.592634Z",
     "iopub.status.idle": "2022-10-24T09:26:46.616339Z",
     "shell.execute_reply": "2022-10-24T09:26:46.616118Z"
    }
   },
   "outputs": [],
   "source": [
    "# For your convenience, you can run this cell to run all the tests at once!\n",
    "import os\n",
    "_ = [ok.grade(q[:-3]) for q in os.listdir(\"tests\") if q.startswith('q')]"
   ]
  }
 ],
 "metadata": {
  "jupytext": {
   "notebook_metadata_filter": "all,-language_info",
   "split_at_heading": true,
   "text_representation": {
    "extension": ".Rmd",
    "format_name": "rmarkdown",
    "format_version": "1.1",
    "jupytext_version": "1.2.4"
   }
  },
  "kernelspec": {
   "display_name": "Python 3",
   "language": "python",
   "name": "python3"
  },
  "language_info": {
   "codemirror_mode": {
    "name": "ipython",
    "version": 3
   },
   "file_extension": ".py",
   "mimetype": "text/x-python",
   "name": "python",
   "nbconvert_exporter": "python",
   "pygments_lexer": "ipython3",
   "version": "3.10.7"
  }
 },
 "nbformat": 4,
 "nbformat_minor": 5
}
